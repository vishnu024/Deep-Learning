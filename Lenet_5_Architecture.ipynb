{
  "nbformat": 4,
  "nbformat_minor": 0,
  "metadata": {
    "colab": {
      "provenance": []
    },
    "kernelspec": {
      "name": "python3",
      "display_name": "Python 3"
    },
    "language_info": {
      "name": "python"
    },
    "accelerator": "GPU",
    "gpuClass": "standard"
  },
  "cells": [
    {
      "cell_type": "code",
      "execution_count": 1,
      "metadata": {
        "id": "EwmTGvXkqxaw"
      },
      "outputs": [],
      "source": [
        "from tensorflow import keras\n",
        "from keras.datasets import mnist\n",
        "import matplotlib.pyplot as plt\n",
        "import numpy as np\n",
        "from keras.layers import Dense, Flatten, Conv2D, AveragePooling2D\n",
        "from keras.models import Sequential"
      ]
    },
    {
      "cell_type": "code",
      "source": [
        "(x_train,y_train),(x_test,y_test)= mnist.load_data()"
      ],
      "metadata": {
        "id": "VQHmzo5HroDy"
      },
      "execution_count": 2,
      "outputs": []
    },
    {
      "cell_type": "code",
      "source": [
        "x_train.shape"
      ],
      "metadata": {
        "colab": {
          "base_uri": "https://localhost:8080/"
        },
        "id": "-EbzvXpLroGS",
        "outputId": "88d1f0a2-cb53-4937-dc4c-e63cb16bf2bc"
      },
      "execution_count": 3,
      "outputs": [
        {
          "output_type": "execute_result",
          "data": {
            "text/plain": [
              "(60000, 28, 28)"
            ]
          },
          "metadata": {},
          "execution_count": 3
        }
      ]
    },
    {
      "cell_type": "code",
      "source": [
        "# Perform Reshaping on x_train,x_test\n",
        "\n",
        "x_train= x_train.reshape(x_train.shape[0],28,28,1)\n",
        "x_test= x_test.reshape(x_test.shape[0],28,28,1)"
      ],
      "metadata": {
        "id": "4mWMq-P7roIw"
      },
      "execution_count": 4,
      "outputs": []
    },
    {
      "cell_type": "code",
      "source": [
        "x_train.shape"
      ],
      "metadata": {
        "colab": {
          "base_uri": "https://localhost:8080/"
        },
        "id": "rEo36tpProLG",
        "outputId": "44366554-63db-49e7-f9ed-cc85acf35841"
      },
      "execution_count": 5,
      "outputs": [
        {
          "output_type": "execute_result",
          "data": {
            "text/plain": [
              "(60000, 28, 28, 1)"
            ]
          },
          "metadata": {},
          "execution_count": 5
        }
      ]
    },
    {
      "cell_type": "code",
      "source": [
        "#Normalizing the Data by Min Max (0-1)\n",
        "\n",
        "x_train= x_train/255\n",
        "x_test= x_test/255"
      ],
      "metadata": {
        "id": "MLg2lJjIroNj"
      },
      "execution_count": 6,
      "outputs": []
    },
    {
      "cell_type": "code",
      "source": [
        "y_train[0]"
      ],
      "metadata": {
        "colab": {
          "base_uri": "https://localhost:8080/"
        },
        "id": "SleHl6lrw7ul",
        "outputId": "4146bb80-c3df-4b58-e39c-29577de3e839"
      },
      "execution_count": 7,
      "outputs": [
        {
          "output_type": "execute_result",
          "data": {
            "text/plain": [
              "5"
            ]
          },
          "metadata": {},
          "execution_count": 7
        }
      ]
    },
    {
      "cell_type": "code",
      "source": [
        "#One Hot Encoding \n",
        "\n",
        "y_train= keras.utils.to_categorical(y_train,10)\n",
        "y_test= keras.utils.to_categorical(y_test,10)"
      ],
      "metadata": {
        "id": "SA0xh4wQroP1"
      },
      "execution_count": 8,
      "outputs": []
    },
    {
      "cell_type": "code",
      "source": [
        "\n",
        "model= Sequential()\n",
        "\n",
        "model.add(Conv2D(6,kernel_size=(5,5), activation='tanh', padding= 'valid', input_shape=(28,28,1)))\n",
        "model.add(AveragePooling2D(pool_size= (2,2), strides=2, padding='valid'))\n",
        "model.add(Conv2D(16,kernel_size=(5,5), activation='tanh', padding= 'valid'))\n",
        "model.add(AveragePooling2D(pool_size=(2,2), strides=2, padding='valid'))\n",
        "\n",
        "model.add(Flatten())\n",
        "model.add(Dense(120,activation='tanh'))\n",
        "model.add(Dense(84,activation='tanh'))\n",
        "model.add(Dense(10,activation='Softmax'))\n",
        "\n",
        "\n",
        "\n",
        "model.summary()\n"
      ],
      "metadata": {
        "id": "prgiCunoroSO",
        "colab": {
          "base_uri": "https://localhost:8080/"
        },
        "outputId": "c65db0c5-aeda-40e3-cc92-c6bfa4362a68"
      },
      "execution_count": 9,
      "outputs": [
        {
          "output_type": "stream",
          "name": "stdout",
          "text": [
            "Model: \"sequential\"\n",
            "_________________________________________________________________\n",
            " Layer (type)                Output Shape              Param #   \n",
            "=================================================================\n",
            " conv2d (Conv2D)             (None, 24, 24, 6)         156       \n",
            "                                                                 \n",
            " average_pooling2d (AverageP  (None, 12, 12, 6)        0         \n",
            " ooling2D)                                                       \n",
            "                                                                 \n",
            " conv2d_1 (Conv2D)           (None, 8, 8, 16)          2416      \n",
            "                                                                 \n",
            " average_pooling2d_1 (Averag  (None, 4, 4, 16)         0         \n",
            " ePooling2D)                                                     \n",
            "                                                                 \n",
            " flatten (Flatten)           (None, 256)               0         \n",
            "                                                                 \n",
            " dense (Dense)               (None, 120)               30840     \n",
            "                                                                 \n",
            " dense_1 (Dense)             (None, 84)                10164     \n",
            "                                                                 \n",
            " dense_2 (Dense)             (None, 10)                850       \n",
            "                                                                 \n",
            "=================================================================\n",
            "Total params: 44,426\n",
            "Trainable params: 44,426\n",
            "Non-trainable params: 0\n",
            "_________________________________________________________________\n"
          ]
        }
      ]
    },
    {
      "cell_type": "code",
      "source": [
        "model.compile(loss= keras.metrics.categorical_crossentropy, optimizer = keras.optimizers.Adam(), metrics = ['accuracy'])"
      ],
      "metadata": {
        "id": "3q-sBFv_roWz"
      },
      "execution_count": 10,
      "outputs": []
    },
    {
      "cell_type": "code",
      "source": [
        "model_history= model.fit(x_train, y_train, batch_size= 128, epochs= 10, verbose= 1, validation_data= (x_test, y_test))"
      ],
      "metadata": {
        "id": "INoctRRZrobY",
        "colab": {
          "base_uri": "https://localhost:8080/"
        },
        "outputId": "082a4948-e739-48f6-d96a-b4cb69cba0b0"
      },
      "execution_count": 11,
      "outputs": [
        {
          "output_type": "stream",
          "name": "stdout",
          "text": [
            "Epoch 1/10\n",
            "469/469 [==============================] - 5s 6ms/step - loss: 0.3478 - accuracy: 0.9024 - val_loss: 0.1844 - val_accuracy: 0.9402\n",
            "Epoch 2/10\n",
            "469/469 [==============================] - 2s 5ms/step - loss: 0.1346 - accuracy: 0.9589 - val_loss: 0.1039 - val_accuracy: 0.9696\n",
            "Epoch 3/10\n",
            "469/469 [==============================] - 3s 7ms/step - loss: 0.0912 - accuracy: 0.9721 - val_loss: 0.0757 - val_accuracy: 0.9766\n",
            "Epoch 4/10\n",
            "469/469 [==============================] - 4s 8ms/step - loss: 0.0679 - accuracy: 0.9789 - val_loss: 0.0657 - val_accuracy: 0.9794\n",
            "Epoch 5/10\n",
            "469/469 [==============================] - 4s 8ms/step - loss: 0.0560 - accuracy: 0.9823 - val_loss: 0.0606 - val_accuracy: 0.9803\n",
            "Epoch 6/10\n",
            "469/469 [==============================] - 4s 8ms/step - loss: 0.0440 - accuracy: 0.9865 - val_loss: 0.0539 - val_accuracy: 0.9835\n",
            "Epoch 7/10\n",
            "469/469 [==============================] - 4s 9ms/step - loss: 0.0374 - accuracy: 0.9883 - val_loss: 0.0479 - val_accuracy: 0.9833\n",
            "Epoch 8/10\n",
            "469/469 [==============================] - 3s 6ms/step - loss: 0.0329 - accuracy: 0.9896 - val_loss: 0.0507 - val_accuracy: 0.9845\n",
            "Epoch 9/10\n",
            "469/469 [==============================] - 2s 5ms/step - loss: 0.0285 - accuracy: 0.9908 - val_loss: 0.0507 - val_accuracy: 0.9829\n",
            "Epoch 10/10\n",
            "469/469 [==============================] - 2s 5ms/step - loss: 0.0231 - accuracy: 0.9928 - val_loss: 0.0455 - val_accuracy: 0.9854\n"
          ]
        }
      ]
    },
    {
      "cell_type": "code",
      "source": [
        "# list all data in history\n",
        "\n",
        "print(model_history.history.keys())\n",
        "# summarize history for accuracy\n",
        "plt.plot(model_history.history['accuracy'])\n",
        "plt.plot(model_history.history['val_accuracy'])\n",
        "plt.title('model accuracy')\n",
        "plt.ylabel('accuracy')\n",
        "plt.xlabel('epoch')\n",
        "plt.legend(['train', 'test'], loc='upper left')\n",
        "plt.show()"
      ],
      "metadata": {
        "colab": {
          "base_uri": "https://localhost:8080/",
          "height": 312
        },
        "id": "mre7Yl7KTbEp",
        "outputId": "6169ed97-2e78-45fd-dd04-ac2fb302ee90"
      },
      "execution_count": 12,
      "outputs": [
        {
          "output_type": "stream",
          "name": "stdout",
          "text": [
            "dict_keys(['loss', 'accuracy', 'val_loss', 'val_accuracy'])\n"
          ]
        },
        {
          "output_type": "display_data",
          "data": {
            "text/plain": [
              "<Figure size 432x288 with 1 Axes>"
            ],
            "image/png": "[encoded data removed]"
          },
          "metadata": {
            "needs_background": "light"
          }
        }
      ]
    },
    {
      "cell_type": "code",
      "source": [
        "\n",
        "# summarize history for accuracy\n",
        "plt.plot(model_history.history['loss'])\n",
        "plt.plot(model_history.history['val_loss'])\n",
        "plt.title('model accuracy')\n",
        "plt.ylabel('loss')\n",
        "plt.xlabel('epoch')\n",
        "plt.legend(['train', 'test'], loc='upper left')\n",
        "plt.show()"
      ],
      "metadata": {
        "colab": {
          "base_uri": "https://localhost:8080/",
          "height": 295
        },
        "id": "5iyzAe3tTbHN",
        "outputId": "caefd0f0-e46a-49b3-ca1c-76c24137c65d"
      },
      "execution_count": 13,
      "outputs": [
        {
          "output_type": "display_data",
          "data": {
            "text/plain": [
              "<Figure size 432x288 with 1 Axes>"
            ],
            "image/png": "[encoded data removed]"
          },
          "metadata": {
            "needs_background": "light"
          }
        }
      ]
    },
    {
      "cell_type": "code",
      "source": [
        "score= model.evaluate(x_test,y_test)"
      ],
      "metadata": {
        "id": "RjMMTxStFc5j",
        "colab": {
          "base_uri": "https://localhost:8080/"
        },
        "outputId": "9a336a2a-f60c-4791-a926-1ffc43de2160"
      },
      "execution_count": 14,
      "outputs": [
        {
          "output_type": "stream",
          "name": "stdout",
          "text": [
            "313/313 [==============================] - 1s 3ms/step - loss: 0.0455 - accuracy: 0.9854\n"
          ]
        }
      ]
    },
    {
      "cell_type": "code",
      "source": [
        "print('Test loss:',score[0])\n",
        "print('Accuracy:',score[1])"
      ],
      "metadata": {
        "id": "A7RsPmuarod5",
        "colab": {
          "base_uri": "https://localhost:8080/"
        },
        "outputId": "8f9e95f3-0627-4e1c-b261-b1ebf26eb6c1"
      },
      "execution_count": 15,
      "outputs": [
        {
          "output_type": "stream",
          "name": "stdout",
          "text": [
            "Test loss: 0.04554527625441551\n",
            "Accuracy: 0.9854000210762024\n"
          ]
        }
      ]
    },
    {
      "cell_type": "code",
      "source": [
        "prediction= model.predict(x_test)"
      ],
      "metadata": {
        "id": "8JQDqsXFrof6",
        "colab": {
          "base_uri": "https://localhost:8080/"
        },
        "outputId": "6d203ff7-04f9-4bb4-b2b6-2890ccbf2776"
      },
      "execution_count": 16,
      "outputs": [
        {
          "output_type": "stream",
          "name": "stdout",
          "text": [
            "313/313 [==============================] - 1s 2ms/step\n"
          ]
        }
      ]
    },
    {
      "cell_type": "code",
      "source": [
        "predict_img= np.argmax(prediction[7])\n",
        "predict_img"
      ],
      "metadata": {
        "id": "hFdl7ZJUrohy",
        "colab": {
          "base_uri": "https://localhost:8080/"
        },
        "outputId": "948cf895-5448-4a3c-8fad-11d540eafe2a"
      },
      "execution_count": 17,
      "outputs": [
        {
          "output_type": "execute_result",
          "data": {
            "text/plain": [
              "9"
            ]
          },
          "metadata": {},
          "execution_count": 17
        }
      ]
    }
  ]
}